{
  "nbformat": 4,
  "nbformat_minor": 0,
  "metadata": {
    "colab": {
      "provenance": []
    },
    "kernelspec": {
      "name": "python3",
      "display_name": "Python 3"
    },
    "language_info": {
      "name": "python"
    }
  },
  "cells": [
    {
      "cell_type": "code",
      "execution_count": 1,
      "metadata": {
        "id": "X0nbpWZIXvPi"
      },
      "outputs": [],
      "source": [
        "import pandas as pd\n",
        "import numpy as np\n",
        "import tensorflow as tf\n",
        "from sklearn.model_selection import train_test_split\n",
        "from sklearn.preprocessing import StandardScaler\n",
        "from sklearn.metrics import accuracy_score, classification_report"
      ]
    },
    {
      "cell_type": "code",
      "source": [
        "import seaborn as sns\n",
        "import matplotlib.pyplot as plt"
      ],
      "metadata": {
        "id": "KAbiE1GqCA-_"
      },
      "execution_count": 2,
      "outputs": []
    },
    {
      "cell_type": "code",
      "source": [
        "df = pd.read_csv(\"./processed_data.csv\")\n",
        "df"
      ],
      "metadata": {
        "id": "CAykiKleX2CB",
        "colab": {
          "base_uri": "https://localhost:8080/",
          "height": 461
        },
        "outputId": "9b6e0d42-52fb-4597-bf74-9ac9fee844a8"
      },
      "execution_count": 3,
      "outputs": [
        {
          "output_type": "execute_result",
          "data": {
            "text/plain": [
              "         aid     name  gender  age occupation       income marital_status  \\\n",
              "0        120     Riya    Male   20    Student   1210.00000         Single   \n",
              "1        121   Ananya  Others   20    Student      0.00000         Single   \n",
              "2        122    Rohan  Others   25    Student  38726.00000         Single   \n",
              "3        123    Rohan  Female   19    Student      0.00000         Single   \n",
              "4        124    Lassi    Male   18    Student      0.00000         Single   \n",
              "...      ...      ...     ...  ...        ...          ...            ...   \n",
              "27111  30113    Rahul    Male   30    Student   3235.16738         Single   \n",
              "27112  30114    Rishi  Others   48   Business  56640.61048         Single   \n",
              "27113  30116    Kavya  Female   37        Job  75110.79012         Single   \n",
              "27114  30117  Samarth  Others   38    Retired  21570.72990        Married   \n",
              "27115  30118   Aditya    Male   63        Job  20727.14165        Married   \n",
              "\n",
              "       credit_score  home  child  ...  Car Insurance  Home Insurance  \\\n",
              "0               5.9     0      0  ...              1               0   \n",
              "1               0.0     0      0  ...              0               0   \n",
              "2               4.5     0      0  ...              0               0   \n",
              "3               0.0     0      0  ...              0               0   \n",
              "4               6.2     0      0  ...              0               0   \n",
              "...             ...   ...    ...  ...            ...             ...   \n",
              "27111           2.0     0      0  ...              1               0   \n",
              "27112           0.3     0      2  ...              0               0   \n",
              "27113           3.0     1      0  ...              1               1   \n",
              "27114           0.7     0      1  ...              0               0   \n",
              "27115           7.8     1      2  ...              0               1   \n",
              "\n",
              "       Stocks Investments  Bonds  Real-Estates  Commodities  \\\n",
              "0                       1      1             0            0   \n",
              "1                       0      0             0            0   \n",
              "2                       1      0             0            0   \n",
              "3                       0      0             0            0   \n",
              "4                       0      1             0            0   \n",
              "...                   ...    ...           ...          ...   \n",
              "27111                   0      1             0            0   \n",
              "27112                   1      1             0            1   \n",
              "27113                   1      1             1            1   \n",
              "27114                   0      1             0            0   \n",
              "27115                   1      1             1            1   \n",
              "\n",
              "       Retirement Policy  Child Policy  Term Policy  Endowment Policy  \n",
              "0                      0             0            1                 1  \n",
              "1                      0             0            1                 0  \n",
              "2                      0             0            1                 0  \n",
              "3                      0             0            1                 0  \n",
              "4                      0             0            1                 1  \n",
              "...                  ...           ...          ...               ...  \n",
              "27111                  0             0            1                 1  \n",
              "27112                  0             1            1                 0  \n",
              "27113                  0             0            1                 0  \n",
              "27114                  1             1            0                 0  \n",
              "27115                  0             1            0                 0  \n",
              "\n",
              "[27116 rows x 35 columns]"
            ],
            "text/html": [
              "\n",
              "  <div id=\"df-ab994b3b-1ad6-42af-8362-24c0d8890d13\" class=\"colab-df-container\">\n",
              "    <div>\n",
              "<style scoped>\n",
              "    .dataframe tbody tr th:only-of-type {\n",
              "        vertical-align: middle;\n",
              "    }\n",
              "\n",
              "    .dataframe tbody tr th {\n",
              "        vertical-align: top;\n",
              "    }\n",
              "\n",
              "    .dataframe thead th {\n",
              "        text-align: right;\n",
              "    }\n",
              "</style>\n",
              "<table border=\"1\" class=\"dataframe\">\n",
              "  <thead>\n",
              "    <tr style=\"text-align: right;\">\n",
              "      <th></th>\n",
              "      <th>aid</th>\n",
              "      <th>name</th>\n",
              "      <th>gender</th>\n",
              "      <th>age</th>\n",
              "      <th>occupation</th>\n",
              "      <th>income</th>\n",
              "      <th>marital_status</th>\n",
              "      <th>credit_score</th>\n",
              "      <th>home</th>\n",
              "      <th>child</th>\n",
              "      <th>...</th>\n",
              "      <th>Car Insurance</th>\n",
              "      <th>Home Insurance</th>\n",
              "      <th>Stocks Investments</th>\n",
              "      <th>Bonds</th>\n",
              "      <th>Real-Estates</th>\n",
              "      <th>Commodities</th>\n",
              "      <th>Retirement Policy</th>\n",
              "      <th>Child Policy</th>\n",
              "      <th>Term Policy</th>\n",
              "      <th>Endowment Policy</th>\n",
              "    </tr>\n",
              "  </thead>\n",
              "  <tbody>\n",
              "    <tr>\n",
              "      <th>0</th>\n",
              "      <td>120</td>\n",
              "      <td>Riya</td>\n",
              "      <td>Male</td>\n",
              "      <td>20</td>\n",
              "      <td>Student</td>\n",
              "      <td>1210.00000</td>\n",
              "      <td>Single</td>\n",
              "      <td>5.9</td>\n",
              "      <td>0</td>\n",
              "      <td>0</td>\n",
              "      <td>...</td>\n",
              "      <td>1</td>\n",
              "      <td>0</td>\n",
              "      <td>1</td>\n",
              "      <td>1</td>\n",
              "      <td>0</td>\n",
              "      <td>0</td>\n",
              "      <td>0</td>\n",
              "      <td>0</td>\n",
              "      <td>1</td>\n",
              "      <td>1</td>\n",
              "    </tr>\n",
              "    <tr>\n",
              "      <th>1</th>\n",
              "      <td>121</td>\n",
              "      <td>Ananya</td>\n",
              "      <td>Others</td>\n",
              "      <td>20</td>\n",
              "      <td>Student</td>\n",
              "      <td>0.00000</td>\n",
              "      <td>Single</td>\n",
              "      <td>0.0</td>\n",
              "      <td>0</td>\n",
              "      <td>0</td>\n",
              "      <td>...</td>\n",
              "      <td>0</td>\n",
              "      <td>0</td>\n",
              "      <td>0</td>\n",
              "      <td>0</td>\n",
              "      <td>0</td>\n",
              "      <td>0</td>\n",
              "      <td>0</td>\n",
              "      <td>0</td>\n",
              "      <td>1</td>\n",
              "      <td>0</td>\n",
              "    </tr>\n",
              "    <tr>\n",
              "      <th>2</th>\n",
              "      <td>122</td>\n",
              "      <td>Rohan</td>\n",
              "      <td>Others</td>\n",
              "      <td>25</td>\n",
              "      <td>Student</td>\n",
              "      <td>38726.00000</td>\n",
              "      <td>Single</td>\n",
              "      <td>4.5</td>\n",
              "      <td>0</td>\n",
              "      <td>0</td>\n",
              "      <td>...</td>\n",
              "      <td>0</td>\n",
              "      <td>0</td>\n",
              "      <td>1</td>\n",
              "      <td>0</td>\n",
              "      <td>0</td>\n",
              "      <td>0</td>\n",
              "      <td>0</td>\n",
              "      <td>0</td>\n",
              "      <td>1</td>\n",
              "      <td>0</td>\n",
              "    </tr>\n",
              "    <tr>\n",
              "      <th>3</th>\n",
              "      <td>123</td>\n",
              "      <td>Rohan</td>\n",
              "      <td>Female</td>\n",
              "      <td>19</td>\n",
              "      <td>Student</td>\n",
              "      <td>0.00000</td>\n",
              "      <td>Single</td>\n",
              "      <td>0.0</td>\n",
              "      <td>0</td>\n",
              "      <td>0</td>\n",
              "      <td>...</td>\n",
              "      <td>0</td>\n",
              "      <td>0</td>\n",
              "      <td>0</td>\n",
              "      <td>0</td>\n",
              "      <td>0</td>\n",
              "      <td>0</td>\n",
              "      <td>0</td>\n",
              "      <td>0</td>\n",
              "      <td>1</td>\n",
              "      <td>0</td>\n",
              "    </tr>\n",
              "    <tr>\n",
              "      <th>4</th>\n",
              "      <td>124</td>\n",
              "      <td>Lassi</td>\n",
              "      <td>Male</td>\n",
              "      <td>18</td>\n",
              "      <td>Student</td>\n",
              "      <td>0.00000</td>\n",
              "      <td>Single</td>\n",
              "      <td>6.2</td>\n",
              "      <td>0</td>\n",
              "      <td>0</td>\n",
              "      <td>...</td>\n",
              "      <td>0</td>\n",
              "      <td>0</td>\n",
              "      <td>0</td>\n",
              "      <td>1</td>\n",
              "      <td>0</td>\n",
              "      <td>0</td>\n",
              "      <td>0</td>\n",
              "      <td>0</td>\n",
              "      <td>1</td>\n",
              "      <td>1</td>\n",
              "    </tr>\n",
              "    <tr>\n",
              "      <th>...</th>\n",
              "      <td>...</td>\n",
              "      <td>...</td>\n",
              "      <td>...</td>\n",
              "      <td>...</td>\n",
              "      <td>...</td>\n",
              "      <td>...</td>\n",
              "      <td>...</td>\n",
              "      <td>...</td>\n",
              "      <td>...</td>\n",
              "      <td>...</td>\n",
              "      <td>...</td>\n",
              "      <td>...</td>\n",
              "      <td>...</td>\n",
              "      <td>...</td>\n",
              "      <td>...</td>\n",
              "      <td>...</td>\n",
              "      <td>...</td>\n",
              "      <td>...</td>\n",
              "      <td>...</td>\n",
              "      <td>...</td>\n",
              "      <td>...</td>\n",
              "    </tr>\n",
              "    <tr>\n",
              "      <th>27111</th>\n",
              "      <td>30113</td>\n",
              "      <td>Rahul</td>\n",
              "      <td>Male</td>\n",
              "      <td>30</td>\n",
              "      <td>Student</td>\n",
              "      <td>3235.16738</td>\n",
              "      <td>Single</td>\n",
              "      <td>2.0</td>\n",
              "      <td>0</td>\n",
              "      <td>0</td>\n",
              "      <td>...</td>\n",
              "      <td>1</td>\n",
              "      <td>0</td>\n",
              "      <td>0</td>\n",
              "      <td>1</td>\n",
              "      <td>0</td>\n",
              "      <td>0</td>\n",
              "      <td>0</td>\n",
              "      <td>0</td>\n",
              "      <td>1</td>\n",
              "      <td>1</td>\n",
              "    </tr>\n",
              "    <tr>\n",
              "      <th>27112</th>\n",
              "      <td>30114</td>\n",
              "      <td>Rishi</td>\n",
              "      <td>Others</td>\n",
              "      <td>48</td>\n",
              "      <td>Business</td>\n",
              "      <td>56640.61048</td>\n",
              "      <td>Single</td>\n",
              "      <td>0.3</td>\n",
              "      <td>0</td>\n",
              "      <td>2</td>\n",
              "      <td>...</td>\n",
              "      <td>0</td>\n",
              "      <td>0</td>\n",
              "      <td>1</td>\n",
              "      <td>1</td>\n",
              "      <td>0</td>\n",
              "      <td>1</td>\n",
              "      <td>0</td>\n",
              "      <td>1</td>\n",
              "      <td>1</td>\n",
              "      <td>0</td>\n",
              "    </tr>\n",
              "    <tr>\n",
              "      <th>27113</th>\n",
              "      <td>30116</td>\n",
              "      <td>Kavya</td>\n",
              "      <td>Female</td>\n",
              "      <td>37</td>\n",
              "      <td>Job</td>\n",
              "      <td>75110.79012</td>\n",
              "      <td>Single</td>\n",
              "      <td>3.0</td>\n",
              "      <td>1</td>\n",
              "      <td>0</td>\n",
              "      <td>...</td>\n",
              "      <td>1</td>\n",
              "      <td>1</td>\n",
              "      <td>1</td>\n",
              "      <td>1</td>\n",
              "      <td>1</td>\n",
              "      <td>1</td>\n",
              "      <td>0</td>\n",
              "      <td>0</td>\n",
              "      <td>1</td>\n",
              "      <td>0</td>\n",
              "    </tr>\n",
              "    <tr>\n",
              "      <th>27114</th>\n",
              "      <td>30117</td>\n",
              "      <td>Samarth</td>\n",
              "      <td>Others</td>\n",
              "      <td>38</td>\n",
              "      <td>Retired</td>\n",
              "      <td>21570.72990</td>\n",
              "      <td>Married</td>\n",
              "      <td>0.7</td>\n",
              "      <td>0</td>\n",
              "      <td>1</td>\n",
              "      <td>...</td>\n",
              "      <td>0</td>\n",
              "      <td>0</td>\n",
              "      <td>0</td>\n",
              "      <td>1</td>\n",
              "      <td>0</td>\n",
              "      <td>0</td>\n",
              "      <td>1</td>\n",
              "      <td>1</td>\n",
              "      <td>0</td>\n",
              "      <td>0</td>\n",
              "    </tr>\n",
              "    <tr>\n",
              "      <th>27115</th>\n",
              "      <td>30118</td>\n",
              "      <td>Aditya</td>\n",
              "      <td>Male</td>\n",
              "      <td>63</td>\n",
              "      <td>Job</td>\n",
              "      <td>20727.14165</td>\n",
              "      <td>Married</td>\n",
              "      <td>7.8</td>\n",
              "      <td>1</td>\n",
              "      <td>2</td>\n",
              "      <td>...</td>\n",
              "      <td>0</td>\n",
              "      <td>1</td>\n",
              "      <td>1</td>\n",
              "      <td>1</td>\n",
              "      <td>1</td>\n",
              "      <td>1</td>\n",
              "      <td>0</td>\n",
              "      <td>1</td>\n",
              "      <td>0</td>\n",
              "      <td>0</td>\n",
              "    </tr>\n",
              "  </tbody>\n",
              "</table>\n",
              "<p>27116 rows × 35 columns</p>\n",
              "</div>\n",
              "    <div class=\"colab-df-buttons\">\n",
              "\n",
              "  <div class=\"colab-df-container\">\n",
              "    <button class=\"colab-df-convert\" onclick=\"convertToInteractive('df-ab994b3b-1ad6-42af-8362-24c0d8890d13')\"\n",
              "            title=\"Convert this dataframe to an interactive table.\"\n",
              "            style=\"display:none;\">\n",
              "\n",
              "  <svg xmlns=\"http://www.w3.org/2000/svg\" height=\"24px\" viewBox=\"0 -960 960 960\">\n",
              "    <path d=\"M120-120v-720h720v720H120Zm60-500h600v-160H180v160Zm220 220h160v-160H400v160Zm0 220h160v-160H400v160ZM180-400h160v-160H180v160Zm440 0h160v-160H620v160ZM180-180h160v-160H180v160Zm440 0h160v-160H620v160Z\"/>\n",
              "  </svg>\n",
              "    </button>\n",
              "\n",
              "  <style>\n",
              "    .colab-df-container {\n",
              "      display:flex;\n",
              "      gap: 12px;\n",
              "    }\n",
              "\n",
              "    .colab-df-convert {\n",
              "      background-color: #E8F0FE;\n",
              "      border: none;\n",
              "      border-radius: 50%;\n",
              "      cursor: pointer;\n",
              "      display: none;\n",
              "      fill: #1967D2;\n",
              "      height: 32px;\n",
              "      padding: 0 0 0 0;\n",
              "      width: 32px;\n",
              "    }\n",
              "\n",
              "    .colab-df-convert:hover {\n",
              "      background-color: #E2EBFA;\n",
              "      box-shadow: 0px 1px 2px rgba(60, 64, 67, 0.3), 0px 1px 3px 1px rgba(60, 64, 67, 0.15);\n",
              "      fill: #174EA6;\n",
              "    }\n",
              "\n",
              "    .colab-df-buttons div {\n",
              "      margin-bottom: 4px;\n",
              "    }\n",
              "\n",
              "    [theme=dark] .colab-df-convert {\n",
              "      background-color: #3B4455;\n",
              "      fill: #D2E3FC;\n",
              "    }\n",
              "\n",
              "    [theme=dark] .colab-df-convert:hover {\n",
              "      background-color: #434B5C;\n",
              "      box-shadow: 0px 1px 3px 1px rgba(0, 0, 0, 0.15);\n",
              "      filter: drop-shadow(0px 1px 2px rgba(0, 0, 0, 0.3));\n",
              "      fill: #FFFFFF;\n",
              "    }\n",
              "  </style>\n",
              "\n",
              "    <script>\n",
              "      const buttonEl =\n",
              "        document.querySelector('#df-ab994b3b-1ad6-42af-8362-24c0d8890d13 button.colab-df-convert');\n",
              "      buttonEl.style.display =\n",
              "        google.colab.kernel.accessAllowed ? 'block' : 'none';\n",
              "\n",
              "      async function convertToInteractive(key) {\n",
              "        const element = document.querySelector('#df-ab994b3b-1ad6-42af-8362-24c0d8890d13');\n",
              "        const dataTable =\n",
              "          await google.colab.kernel.invokeFunction('convertToInteractive',\n",
              "                                                    [key], {});\n",
              "        if (!dataTable) return;\n",
              "\n",
              "        const docLinkHtml = 'Like what you see? Visit the ' +\n",
              "          '<a target=\"_blank\" href=https://colab.research.google.com/notebooks/data_table.ipynb>data table notebook</a>'\n",
              "          + ' to learn more about interactive tables.';\n",
              "        element.innerHTML = '';\n",
              "        dataTable['output_type'] = 'display_data';\n",
              "        await google.colab.output.renderOutput(dataTable, element);\n",
              "        const docLink = document.createElement('div');\n",
              "        docLink.innerHTML = docLinkHtml;\n",
              "        element.appendChild(docLink);\n",
              "      }\n",
              "    </script>\n",
              "  </div>\n",
              "\n",
              "\n",
              "<div id=\"df-60f53290-e1cd-4631-86ea-a3209ce1d2f1\">\n",
              "  <button class=\"colab-df-quickchart\" onclick=\"quickchart('df-60f53290-e1cd-4631-86ea-a3209ce1d2f1')\"\n",
              "            title=\"Suggest charts\"\n",
              "            style=\"display:none;\">\n",
              "\n",
              "<svg xmlns=\"http://www.w3.org/2000/svg\" height=\"24px\"viewBox=\"0 0 24 24\"\n",
              "     width=\"24px\">\n",
              "    <g>\n",
              "        <path d=\"M19 3H5c-1.1 0-2 .9-2 2v14c0 1.1.9 2 2 2h14c1.1 0 2-.9 2-2V5c0-1.1-.9-2-2-2zM9 17H7v-7h2v7zm4 0h-2V7h2v10zm4 0h-2v-4h2v4z\"/>\n",
              "    </g>\n",
              "</svg>\n",
              "  </button>\n",
              "\n",
              "<style>\n",
              "  .colab-df-quickchart {\n",
              "      --bg-color: #E8F0FE;\n",
              "      --fill-color: #1967D2;\n",
              "      --hover-bg-color: #E2EBFA;\n",
              "      --hover-fill-color: #174EA6;\n",
              "      --disabled-fill-color: #AAA;\n",
              "      --disabled-bg-color: #DDD;\n",
              "  }\n",
              "\n",
              "  [theme=dark] .colab-df-quickchart {\n",
              "      --bg-color: #3B4455;\n",
              "      --fill-color: #D2E3FC;\n",
              "      --hover-bg-color: #434B5C;\n",
              "      --hover-fill-color: #FFFFFF;\n",
              "      --disabled-bg-color: #3B4455;\n",
              "      --disabled-fill-color: #666;\n",
              "  }\n",
              "\n",
              "  .colab-df-quickchart {\n",
              "    background-color: var(--bg-color);\n",
              "    border: none;\n",
              "    border-radius: 50%;\n",
              "    cursor: pointer;\n",
              "    display: none;\n",
              "    fill: var(--fill-color);\n",
              "    height: 32px;\n",
              "    padding: 0;\n",
              "    width: 32px;\n",
              "  }\n",
              "\n",
              "  .colab-df-quickchart:hover {\n",
              "    background-color: var(--hover-bg-color);\n",
              "    box-shadow: 0 1px 2px rgba(60, 64, 67, 0.3), 0 1px 3px 1px rgba(60, 64, 67, 0.15);\n",
              "    fill: var(--button-hover-fill-color);\n",
              "  }\n",
              "\n",
              "  .colab-df-quickchart-complete:disabled,\n",
              "  .colab-df-quickchart-complete:disabled:hover {\n",
              "    background-color: var(--disabled-bg-color);\n",
              "    fill: var(--disabled-fill-color);\n",
              "    box-shadow: none;\n",
              "  }\n",
              "\n",
              "  .colab-df-spinner {\n",
              "    border: 2px solid var(--fill-color);\n",
              "    border-color: transparent;\n",
              "    border-bottom-color: var(--fill-color);\n",
              "    animation:\n",
              "      spin 1s steps(1) infinite;\n",
              "  }\n",
              "\n",
              "  @keyframes spin {\n",
              "    0% {\n",
              "      border-color: transparent;\n",
              "      border-bottom-color: var(--fill-color);\n",
              "      border-left-color: var(--fill-color);\n",
              "    }\n",
              "    20% {\n",
              "      border-color: transparent;\n",
              "      border-left-color: var(--fill-color);\n",
              "      border-top-color: var(--fill-color);\n",
              "    }\n",
              "    30% {\n",
              "      border-color: transparent;\n",
              "      border-left-color: var(--fill-color);\n",
              "      border-top-color: var(--fill-color);\n",
              "      border-right-color: var(--fill-color);\n",
              "    }\n",
              "    40% {\n",
              "      border-color: transparent;\n",
              "      border-right-color: var(--fill-color);\n",
              "      border-top-color: var(--fill-color);\n",
              "    }\n",
              "    60% {\n",
              "      border-color: transparent;\n",
              "      border-right-color: var(--fill-color);\n",
              "    }\n",
              "    80% {\n",
              "      border-color: transparent;\n",
              "      border-right-color: var(--fill-color);\n",
              "      border-bottom-color: var(--fill-color);\n",
              "    }\n",
              "    90% {\n",
              "      border-color: transparent;\n",
              "      border-bottom-color: var(--fill-color);\n",
              "    }\n",
              "  }\n",
              "</style>\n",
              "\n",
              "  <script>\n",
              "    async function quickchart(key) {\n",
              "      const quickchartButtonEl =\n",
              "        document.querySelector('#' + key + ' button');\n",
              "      quickchartButtonEl.disabled = true;  // To prevent multiple clicks.\n",
              "      quickchartButtonEl.classList.add('colab-df-spinner');\n",
              "      try {\n",
              "        const charts = await google.colab.kernel.invokeFunction(\n",
              "            'suggestCharts', [key], {});\n",
              "      } catch (error) {\n",
              "        console.error('Error during call to suggestCharts:', error);\n",
              "      }\n",
              "      quickchartButtonEl.classList.remove('colab-df-spinner');\n",
              "      quickchartButtonEl.classList.add('colab-df-quickchart-complete');\n",
              "    }\n",
              "    (() => {\n",
              "      let quickchartButtonEl =\n",
              "        document.querySelector('#df-60f53290-e1cd-4631-86ea-a3209ce1d2f1 button');\n",
              "      quickchartButtonEl.style.display =\n",
              "        google.colab.kernel.accessAllowed ? 'block' : 'none';\n",
              "    })();\n",
              "  </script>\n",
              "</div>\n",
              "\n",
              "  <div id=\"id_45974870-1a2d-42d2-8f90-5dad8a2939fa\">\n",
              "    <style>\n",
              "      .colab-df-generate {\n",
              "        background-color: #E8F0FE;\n",
              "        border: none;\n",
              "        border-radius: 50%;\n",
              "        cursor: pointer;\n",
              "        display: none;\n",
              "        fill: #1967D2;\n",
              "        height: 32px;\n",
              "        padding: 0 0 0 0;\n",
              "        width: 32px;\n",
              "      }\n",
              "\n",
              "      .colab-df-generate:hover {\n",
              "        background-color: #E2EBFA;\n",
              "        box-shadow: 0px 1px 2px rgba(60, 64, 67, 0.3), 0px 1px 3px 1px rgba(60, 64, 67, 0.15);\n",
              "        fill: #174EA6;\n",
              "      }\n",
              "\n",
              "      [theme=dark] .colab-df-generate {\n",
              "        background-color: #3B4455;\n",
              "        fill: #D2E3FC;\n",
              "      }\n",
              "\n",
              "      [theme=dark] .colab-df-generate:hover {\n",
              "        background-color: #434B5C;\n",
              "        box-shadow: 0px 1px 3px 1px rgba(0, 0, 0, 0.15);\n",
              "        filter: drop-shadow(0px 1px 2px rgba(0, 0, 0, 0.3));\n",
              "        fill: #FFFFFF;\n",
              "      }\n",
              "    </style>\n",
              "    <button class=\"colab-df-generate\" onclick=\"generateWithVariable('df')\"\n",
              "            title=\"Generate code using this dataframe.\"\n",
              "            style=\"display:none;\">\n",
              "\n",
              "  <svg xmlns=\"http://www.w3.org/2000/svg\" height=\"24px\"viewBox=\"0 0 24 24\"\n",
              "       width=\"24px\">\n",
              "    <path d=\"M7,19H8.4L18.45,9,17,7.55,7,17.6ZM5,21V16.75L18.45,3.32a2,2,0,0,1,2.83,0l1.4,1.43a1.91,1.91,0,0,1,.58,1.4,1.91,1.91,0,0,1-.58,1.4L9.25,21ZM18.45,9,17,7.55Zm-12,3A5.31,5.31,0,0,0,4.9,8.1,5.31,5.31,0,0,0,1,6.5,5.31,5.31,0,0,0,4.9,4.9,5.31,5.31,0,0,0,6.5,1,5.31,5.31,0,0,0,8.1,4.9,5.31,5.31,0,0,0,12,6.5,5.46,5.46,0,0,0,6.5,12Z\"/>\n",
              "  </svg>\n",
              "    </button>\n",
              "    <script>\n",
              "      (() => {\n",
              "      const buttonEl =\n",
              "        document.querySelector('#id_45974870-1a2d-42d2-8f90-5dad8a2939fa button.colab-df-generate');\n",
              "      buttonEl.style.display =\n",
              "        google.colab.kernel.accessAllowed ? 'block' : 'none';\n",
              "\n",
              "      buttonEl.onclick = () => {\n",
              "        google.colab.notebook.generateWithVariable('df');\n",
              "      }\n",
              "      })();\n",
              "    </script>\n",
              "  </div>\n",
              "\n",
              "    </div>\n",
              "  </div>\n"
            ],
            "application/vnd.google.colaboratory.intrinsic+json": {
              "type": "dataframe",
              "variable_name": "df"
            }
          },
          "metadata": {},
          "execution_count": 3
        }
      ]
    },
    {
      "cell_type": "code",
      "source": [
        "Q1 = df[\"child\"].quantile(0.25)\n",
        "Q3 = df[\"child\"].quantile(0.75)\n",
        "IQR = Q3 - Q1\n",
        "\n",
        "lower_bound = Q1 - 1.5 * IQR\n",
        "upper_bound = Q3 + 1.5 * IQR\n",
        "\n",
        "outlier_indices = df[(df['child'] < lower_bound) | (df['child'] > upper_bound)].index\n",
        "\n",
        "df = df.drop(outlier_indices)\n",
        "df.shape"
      ],
      "metadata": {
        "colab": {
          "base_uri": "https://localhost:8080/"
        },
        "id": "IDuo8_KpETsX",
        "outputId": "a73b3d33-8da6-4f26-edae-8420b31b9aa7"
      },
      "execution_count": 4,
      "outputs": [
        {
          "output_type": "execute_result",
          "data": {
            "text/plain": [
              "(26324, 35)"
            ]
          },
          "metadata": {},
          "execution_count": 4
        }
      ]
    },
    {
      "cell_type": "code",
      "source": [
        "Q1 = df[\"income\"].quantile(0.25)\n",
        "Q3 = df[\"income\"].quantile(0.75)\n",
        "IQR = Q3 - Q1\n",
        "\n",
        "lower_bound = Q1 - 1.5 * IQR\n",
        "upper_bound = Q3 + 1.5 * IQR\n",
        "\n",
        "outlier_indices = df[(df['income'] < lower_bound) | (df['income'] > upper_bound)].index\n",
        "\n",
        "df = df.drop(outlier_indices)\n",
        "df.shape"
      ],
      "metadata": {
        "colab": {
          "base_uri": "https://localhost:8080/"
        },
        "id": "L63L7Mo6AkMY",
        "outputId": "f8d5a16e-3273-4203-f518-5ca7728d39d5"
      },
      "execution_count": 5,
      "outputs": [
        {
          "output_type": "execute_result",
          "data": {
            "text/plain": [
              "(26294, 35)"
            ]
          },
          "metadata": {},
          "execution_count": 5
        }
      ]
    },
    {
      "cell_type": "code",
      "source": [
        "df['child'] = df['child'].apply(lambda x: 0 if x == 0 else 1)\n",
        "df['vehicle'] = df['vehicle'].apply(lambda x: 0 if x == 0 else 1)\n",
        "df['home'] = df['home'].apply(lambda x: 0 if x == 0 else 1)"
      ],
      "metadata": {
        "id": "xaS8a7BEKr-Q"
      },
      "execution_count": 6,
      "outputs": []
    },
    {
      "cell_type": "code",
      "source": [
        "plt.figure(figsize=(10, 6))\n",
        "sns.boxplot(data=df)\n",
        "plt.show()"
      ],
      "metadata": {
        "colab": {
          "base_uri": "https://localhost:8080/",
          "height": 522
        },
        "id": "rmpJEwidEI0X",
        "outputId": "1e9b6c5e-3579-4e1f-c7d8-97dbfb4cbbc5"
      },
      "execution_count": 7,
      "outputs": [
        {
          "output_type": "display_data",
          "data": {
            "text/plain": [
              "<Figure size 1000x600 with 1 Axes>"
            ],
            "image/png": "[encoded data removed]"
          },
          "metadata": {}
        }
      ]
    },
    {
      "cell_type": "code",
      "source": [
        "df.loc[(df['child'] == 0) | (~df['occupation'].str.contains('student', case=False)), 'Education Loan'] = 0"
      ],
      "metadata": {
        "id": "yvgAQoGAm3zt"
      },
      "execution_count": 49,
      "outputs": []
    },
    {
      "cell_type": "code",
      "source": [
        "df.loc[df['occupation'].str.contains('Student|Retired|Job', case=False), 'Debt Funds'] = 0"
      ],
      "metadata": {
        "id": "iNckeKbW7VAE"
      },
      "execution_count": 50,
      "outputs": []
    },
    {
      "cell_type": "code",
      "source": [
        "condition = df[\"vehicle\"] == 1\n",
        "df.loc[condition, [\"Car Insurance\"]] = 1\n",
        "df.loc[condition, [\"Vehicle Loan\"]] = 0\n",
        "\n",
        "condition = df[\"vehicle\"] == 0\n",
        "df.loc[condition, [\"Car Insurance\"]] = 0\n",
        "df.loc[condition, [\"Vehicle Loan\"]] = 1"
      ],
      "metadata": {
        "id": "3HkugYOj4XUf"
      },
      "execution_count": 51,
      "outputs": []
    },
    {
      "cell_type": "code",
      "source": [
        "condition = df[\"home\"] == 1\n",
        "df.loc[condition, [\"Home Insurance\"]] = 1\n",
        "df.loc[condition, [\"Home Loan\"]] = 0\n",
        "\n",
        "condition = df[\"home\"] == 0\n",
        "df.loc[condition, [\"Home Insurance\"]] = 0\n",
        "df.loc[condition, [\"Home Loan\"]] = 1"
      ],
      "metadata": {
        "id": "XI9b_9to5Gh5"
      },
      "execution_count": 52,
      "outputs": []
    },
    {
      "cell_type": "code",
      "source": [
        "df['Tax-savings FD'] = df['income'].apply(lambda x: 1 if x > 25000 else 0)"
      ],
      "metadata": {
        "id": "QcRThc2n4sOy"
      },
      "execution_count": 53,
      "outputs": []
    },
    {
      "cell_type": "code",
      "source": [
        "df['Senior Citizen FD'] = df['age'].apply(lambda x: 1 if x > 60 else 0)"
      ],
      "metadata": {
        "id": "BBBorkC54_28"
      },
      "execution_count": 54,
      "outputs": []
    },
    {
      "cell_type": "code",
      "source": [
        "condition = (df['child'] == 1) & (df['occupation'].isin(['Job', 'Business']))\n",
        "df.loc[condition, 'Child Policy'] = 1\n",
        "\n",
        "condition = df[\"child\"] == 0\n",
        "df.loc[condition, [\"Child Policy\"]] = 0"
      ],
      "metadata": {
        "id": "Z-QHX6Cf5Yco"
      },
      "execution_count": 55,
      "outputs": []
    },
    {
      "cell_type": "code",
      "source": [
        "df.loc[(df['child'] == 1) & (df['occupation'] != 'Retired'), 'Child Policy'] = 1\n",
        "df.loc[(df['child'] == 1) & (df['occupation'] == 'Retired'), 'Child Policy'] = 0"
      ],
      "metadata": {
        "id": "tfiuKPhtCCGU"
      },
      "execution_count": 56,
      "outputs": []
    },
    {
      "cell_type": "code",
      "source": [
        "df.loc[(df['age'] < 18) | (df['age'] > 65), 'Term Policy'] = 0"
      ],
      "metadata": {
        "id": "bXRWSFHfCpWp"
      },
      "execution_count": 57,
      "outputs": []
    },
    {
      "cell_type": "code",
      "source": [
        "df = df.sample(frac=1, random_state=1).reset_index(drop=True)"
      ],
      "metadata": {
        "id": "UpMi91hdEIiC"
      },
      "execution_count": 58,
      "outputs": []
    },
    {
      "cell_type": "code",
      "source": [
        "condition = df['occupation'] == 'Retired'\n",
        "df.loc[condition, [\"Home Loan\",\"Vehicle Loan\",\"Education Loan\",\"Life Insurance\", \"Child Policy\",\"Term Policy\"]] = 0\n",
        "df.loc[condition, [\"Senior Citizen FD\",\"Retirement Policy\"]] = 1"
      ],
      "metadata": {
        "id": "g0udwsmtJh5f"
      },
      "execution_count": 59,
      "outputs": []
    },
    {
      "cell_type": "code",
      "source": [
        "condition = df['occupation'] == 'Student'\n",
        "df.loc[condition, ['home', 'child', 'Home Loan',\"Vehicle Loan\", 'Personal Loan','Equity Funds','Debt Funds','Hybrid Funds',\"Tax-savings FD\",\"Senior Citizen FD\",\"Home Insurance\",\"Real-Estates\",\"Commodities\",\"Retirement Policy\", \"Child Policy\"]] = 0\n",
        "df.loc[condition, [\"Education Loan\"]] = 1\n",
        "df.shape"
      ],
      "metadata": {
        "colab": {
          "base_uri": "https://localhost:8080/"
        },
        "id": "JA7itvKuIQPR",
        "outputId": "1e639eff-2c3a-4e78-faa1-8428fa63d69e"
      },
      "execution_count": 83,
      "outputs": [
        {
          "output_type": "execute_result",
          "data": {
            "text/plain": [
              "(26294, 35)"
            ]
          },
          "metadata": {},
          "execution_count": 83
        }
      ]
    },
    {
      "cell_type": "code",
      "source": [
        "# occupations_to_remove = ['Accountant', 'Architect','Artist','Consultant','Doctor','Engineer','Lawyer', 'Marketing Manager', 'Nurse', 'Software Developer', 'Teacher']\n",
        "\n",
        "# df = df[~df['occupation'].isin(occupations_to_remove)]"
      ],
      "metadata": {
        "id": "H9bsx3Tzm3DT"
      },
      "execution_count": 61,
      "outputs": []
    },
    {
      "cell_type": "code",
      "source": [
        "# marital_status_to_remove = ['Widowed']\n",
        "\n",
        "# df = df[~df['marital_status'].isin(marital_status_to_remove)]\n",
        "# df.shape"
      ],
      "metadata": {
        "id": "jnrv8cCaniFp"
      },
      "execution_count": 62,
      "outputs": []
    },
    {
      "cell_type": "code",
      "source": [
        "# df.to_csv('processed_data2.csv', index=False)"
      ],
      "metadata": {
        "id": "dIMGfMfWN4tU"
      },
      "execution_count": 63,
      "outputs": []
    },
    {
      "cell_type": "code",
      "source": [
        "X = df[['gender', 'age', 'occupation', 'income', 'marital_status', 'credit_score', 'home', 'child', 'vehicle']]\n"
      ],
      "metadata": {
        "id": "N8ul6GdKEHJ4"
      },
      "execution_count": 84,
      "outputs": []
    },
    {
      "cell_type": "code",
      "source": [
        "X = pd.get_dummies(X, columns=['occupation'], dtype=float)\n",
        "X = pd.get_dummies(X, columns=['marital_status'], dtype=float)\n",
        "X = pd.get_dummies(X, columns=['gender'], dtype=float)\n"
      ],
      "metadata": {
        "id": "iYzgdCT0ZF6-",
        "collapsed": true
      },
      "execution_count": 85,
      "outputs": []
    },
    {
      "cell_type": "code",
      "source": [
        "y = df.drop([\"aid\",\"name\", 'gender', 'age', 'occupation', 'income', 'marital_status', 'credit_score', 'home', 'child', 'vehicle'],axis =1)\n",
        "y = y.astype(float)"
      ],
      "metadata": {
        "id": "k0Od_QfcZmVK"
      },
      "execution_count": 86,
      "outputs": []
    },
    {
      "cell_type": "code",
      "source": [
        "X_train, X_test, y_train, y_test = train_test_split(X, y, test_size=0.3, random_state=42, shuffle= True)"
      ],
      "metadata": {
        "id": "WuzFWScMZxO3"
      },
      "execution_count": 87,
      "outputs": []
    },
    {
      "cell_type": "code",
      "source": [
        "# X_train.to_csv('feature_data.csv', index=False)"
      ],
      "metadata": {
        "id": "-QDWiMgeoH5G"
      },
      "execution_count": 68,
      "outputs": []
    },
    {
      "cell_type": "code",
      "source": [
        "scaler = StandardScaler()\n",
        "X_train = scaler.fit_transform(X_train)\n",
        "X_test = scaler.transform(X_test)"
      ],
      "metadata": {
        "id": "9nXmLuibZ0OW"
      },
      "execution_count": 88,
      "outputs": []
    },
    {
      "cell_type": "code",
      "source": [
        "X_train"
      ],
      "metadata": {
        "colab": {
          "base_uri": "https://localhost:8080/"
        },
        "id": "od9HXS5vZjNf",
        "outputId": "93f399ca-ac25-427e-9c9b-88cfc2c318ba"
      },
      "execution_count": 89,
      "outputs": [
        {
          "output_type": "execute_result",
          "data": {
            "text/plain": [
              "array([[ 1.3645931 ,  0.27512399, -0.42160054, ..., -0.72473037,\n",
              "        -0.70296152,  1.44144344],\n",
              "       [-1.02972169,  0.69968818,  0.79418933, ..., -0.72473037,\n",
              "        -0.70296152,  1.44144344],\n",
              "       [-1.50858465,  0.91344312, -1.45994648, ...,  1.37982351,\n",
              "        -0.70296152, -0.69374904],\n",
              "       ...,\n",
              "       [-1.37176666, -1.16055316,  0.89839989, ...,  1.37982351,\n",
              "        -0.70296152, -0.69374904],\n",
              "       [ 1.09095712, -0.27774202,  0.86366303, ..., -0.72473037,\n",
              "         1.42255298, -0.69374904],\n",
              "       [-0.41404074, -0.34130399, -1.32475873, ..., -0.72473037,\n",
              "        -0.70296152,  1.44144344]])"
            ]
          },
          "metadata": {},
          "execution_count": 89
        }
      ]
    },
    {
      "cell_type": "markdown",
      "source": [
        "Model 1"
      ],
      "metadata": {
        "id": "yru6LNWksCqO"
      }
    },
    {
      "cell_type": "code",
      "source": [
        "\n",
        "model = tf.keras.Sequential([\n",
        "    tf.keras.layers.Input(shape=(X_train.shape[1],)),\n",
        "    tf.keras.layers.Dense(128, activation='relu'),\n",
        "    tf.keras.layers.Dropout(0.2),\n",
        "    tf.keras.layers.Dense(64, activation='relu'),\n",
        "    tf.keras.layers.Dropout(0.2),\n",
        "    tf.keras.layers.Dense(y_train.shape[1], activation='sigmoid')\n",
        "])\n",
        "\n"
      ],
      "metadata": {
        "id": "vSiqvEuzZ49B"
      },
      "execution_count": 37,
      "outputs": []
    },
    {
      "cell_type": "code",
      "source": [
        "model.compile(optimizer='adam', loss='binary_crossentropy', metrics=['accuracy'])"
      ],
      "metadata": {
        "id": "OoFBCB1-Z74k"
      },
      "execution_count": 25,
      "outputs": []
    },
    {
      "cell_type": "markdown",
      "source": [
        "Model 2"
      ],
      "metadata": {
        "id": "s1R9eNjzsEqq"
      }
    },
    {
      "cell_type": "code",
      "source": [
        "model = tf.keras.Sequential([\n",
        "    tf.keras.layers.Input(shape=(16,)),\n",
        "\n",
        "\n",
        "    tf.keras.layers.Dense(256, activation='relu', kernel_regularizer=tf.keras.regularizers.l2(0.001)),\n",
        "    tf.keras.layers.BatchNormalization(),\n",
        "    tf.keras.layers.Dropout(0.3),\n",
        "\n",
        "    tf.keras.layers.Dense(128, activation='relu', kernel_regularizer=tf.keras.regularizers.l2(0.001)),\n",
        "    tf.keras.layers.BatchNormalization(),\n",
        "    tf.keras.layers.Dropout(0.3),\n",
        "\n",
        "    tf.keras.layers.Dense(64, activation='relu', kernel_regularizer=tf.keras.regularizers.l2(0.001)),\n",
        "    tf.keras.layers.BatchNormalization(),\n",
        "    tf.keras.layers.Dropout(0.3),\n",
        "\n",
        "    tf.keras.layers.Dense(32, activation='relu', kernel_regularizer=tf.keras.regularizers.l2(0.001)),\n",
        "    tf.keras.layers.BatchNormalization(),\n",
        "    tf.keras.layers.Dropout(0.3),\n",
        "\n",
        "    tf.keras.layers.Dense(24, activation='sigmoid')\n",
        "])\n"
      ],
      "metadata": {
        "id": "4r8APMDfsuZv"
      },
      "execution_count": 90,
      "outputs": []
    },
    {
      "cell_type": "code",
      "source": [
        "model.compile(optimizer=tf.keras.optimizers.Adam(learning_rate=0.001),\n",
        "              loss='binary_crossentropy',\n",
        "              metrics=['accuracy'])"
      ],
      "metadata": {
        "id": "W1bntDgXs36S"
      },
      "execution_count": 91,
      "outputs": []
    },
    {
      "cell_type": "code",
      "source": [
        "model.summary()\n"
      ],
      "metadata": {
        "colab": {
          "base_uri": "https://localhost:8080/",
          "height": 609
        },
        "id": "J4qr9ZOys8rY",
        "outputId": "6d0d8c2d-456b-49c7-e197-c31d7ae8b709"
      },
      "execution_count": 92,
      "outputs": [
        {
          "output_type": "display_data",
          "data": {
            "text/plain": [
              "\u001b[1mModel: \"sequential_7\"\u001b[0m\n"
            ],
            "text/html": [
              "<pre style=\"white-space:pre;overflow-x:auto;line-height:normal;font-family:Menlo,'DejaVu Sans Mono',consolas,'Courier New',monospace\"><span style=\"font-weight: bold\">Model: \"sequential_7\"</span>\n",
              "</pre>\n"
            ]
          },
          "metadata": {}
        },
        {
          "output_type": "display_data",
          "data": {
            "text/plain": [
              "┏━━━━━━━━━━━━━━━━━━━━━━━━━━━━━━━━━━━━━━┳━━━━━━━━━━━━━━━━━━━━━━━━━━━━━┳━━━━━━━━━━━━━━━━━┓\n",
              "┃\u001b[1m \u001b[0m\u001b[1mLayer (type)                        \u001b[0m\u001b[1m \u001b[0m┃\u001b[1m \u001b[0m\u001b[1mOutput Shape               \u001b[0m\u001b[1m \u001b[0m┃\u001b[1m \u001b[0m\u001b[1m        Param #\u001b[0m\u001b[1m \u001b[0m┃\n",
              "┡━━━━━━━━━━━━━━━━━━━━━━━━━━━━━━━━━━━━━━╇━━━━━━━━━━━━━━━━━━━━━━━━━━━━━╇━━━━━━━━━━━━━━━━━┩\n",
              "│ dense_31 (\u001b[38;5;33mDense\u001b[0m)                     │ (\u001b[38;5;45mNone\u001b[0m, \u001b[38;5;34m256\u001b[0m)                 │           \u001b[38;5;34m4,352\u001b[0m │\n",
              "├──────────────────────────────────────┼─────────────────────────────┼─────────────────┤\n",
              "│ batch_normalization_20               │ (\u001b[38;5;45mNone\u001b[0m, \u001b[38;5;34m256\u001b[0m)                 │           \u001b[38;5;34m1,024\u001b[0m │\n",
              "│ (\u001b[38;5;33mBatchNormalization\u001b[0m)                 │                             │                 │\n",
              "├──────────────────────────────────────┼─────────────────────────────┼─────────────────┤\n",
              "│ dropout_24 (\u001b[38;5;33mDropout\u001b[0m)                 │ (\u001b[38;5;45mNone\u001b[0m, \u001b[38;5;34m256\u001b[0m)                 │               \u001b[38;5;34m0\u001b[0m │\n",
              "├──────────────────────────────────────┼─────────────────────────────┼─────────────────┤\n",
              "│ dense_32 (\u001b[38;5;33mDense\u001b[0m)                     │ (\u001b[38;5;45mNone\u001b[0m, \u001b[38;5;34m128\u001b[0m)                 │          \u001b[38;5;34m32,896\u001b[0m │\n",
              "├──────────────────────────────────────┼─────────────────────────────┼─────────────────┤\n",
              "│ batch_normalization_21               │ (\u001b[38;5;45mNone\u001b[0m, \u001b[38;5;34m128\u001b[0m)                 │             \u001b[38;5;34m512\u001b[0m │\n",
              "│ (\u001b[38;5;33mBatchNormalization\u001b[0m)                 │                             │                 │\n",
              "├──────────────────────────────────────┼─────────────────────────────┼─────────────────┤\n",
              "│ dropout_25 (\u001b[38;5;33mDropout\u001b[0m)                 │ (\u001b[38;5;45mNone\u001b[0m, \u001b[38;5;34m128\u001b[0m)                 │               \u001b[38;5;34m0\u001b[0m │\n",
              "├──────────────────────────────────────┼─────────────────────────────┼─────────────────┤\n",
              "│ dense_33 (\u001b[38;5;33mDense\u001b[0m)                     │ (\u001b[38;5;45mNone\u001b[0m, \u001b[38;5;34m64\u001b[0m)                  │           \u001b[38;5;34m8,256\u001b[0m │\n",
              "├──────────────────────────────────────┼─────────────────────────────┼─────────────────┤\n",
              "│ batch_normalization_22               │ (\u001b[38;5;45mNone\u001b[0m, \u001b[38;5;34m64\u001b[0m)                  │             \u001b[38;5;34m256\u001b[0m │\n",
              "│ (\u001b[38;5;33mBatchNormalization\u001b[0m)                 │                             │                 │\n",
              "├──────────────────────────────────────┼─────────────────────────────┼─────────────────┤\n",
              "│ dropout_26 (\u001b[38;5;33mDropout\u001b[0m)                 │ (\u001b[38;5;45mNone\u001b[0m, \u001b[38;5;34m64\u001b[0m)                  │               \u001b[38;5;34m0\u001b[0m │\n",
              "├──────────────────────────────────────┼─────────────────────────────┼─────────────────┤\n",
              "│ dense_34 (\u001b[38;5;33mDense\u001b[0m)                     │ (\u001b[38;5;45mNone\u001b[0m, \u001b[38;5;34m32\u001b[0m)                  │           \u001b[38;5;34m2,080\u001b[0m │\n",
              "├──────────────────────────────────────┼─────────────────────────────┼─────────────────┤\n",
              "│ batch_normalization_23               │ (\u001b[38;5;45mNone\u001b[0m, \u001b[38;5;34m32\u001b[0m)                  │             \u001b[38;5;34m128\u001b[0m │\n",
              "│ (\u001b[38;5;33mBatchNormalization\u001b[0m)                 │                             │                 │\n",
              "├──────────────────────────────────────┼─────────────────────────────┼─────────────────┤\n",
              "│ dropout_27 (\u001b[38;5;33mDropout\u001b[0m)                 │ (\u001b[38;5;45mNone\u001b[0m, \u001b[38;5;34m32\u001b[0m)                  │               \u001b[38;5;34m0\u001b[0m │\n",
              "├──────────────────────────────────────┼─────────────────────────────┼─────────────────┤\n",
              "│ dense_35 (\u001b[38;5;33mDense\u001b[0m)                     │ (\u001b[38;5;45mNone\u001b[0m, \u001b[38;5;34m24\u001b[0m)                  │             \u001b[38;5;34m792\u001b[0m │\n",
              "└──────────────────────────────────────┴─────────────────────────────┴─────────────────┘\n"
            ],
            "text/html": [
              "<pre style=\"white-space:pre;overflow-x:auto;line-height:normal;font-family:Menlo,'DejaVu Sans Mono',consolas,'Courier New',monospace\">┏━━━━━━━━━━━━━━━━━━━━━━━━━━━━━━━━━━━━━━┳━━━━━━━━━━━━━━━━━━━━━━━━━━━━━┳━━━━━━━━━━━━━━━━━┓\n",
              "┃<span style=\"font-weight: bold\"> Layer (type)                         </span>┃<span style=\"font-weight: bold\"> Output Shape                </span>┃<span style=\"font-weight: bold\">         Param # </span>┃\n",
              "┡━━━━━━━━━━━━━━━━━━━━━━━━━━━━━━━━━━━━━━╇━━━━━━━━━━━━━━━━━━━━━━━━━━━━━╇━━━━━━━━━━━━━━━━━┩\n",
              "│ dense_31 (<span style=\"color: #0087ff; text-decoration-color: #0087ff\">Dense</span>)                     │ (<span style=\"color: #00d7ff; text-decoration-color: #00d7ff\">None</span>, <span style=\"color: #00af00; text-decoration-color: #00af00\">256</span>)                 │           <span style=\"color: #00af00; text-decoration-color: #00af00\">4,352</span> │\n",
              "├──────────────────────────────────────┼─────────────────────────────┼─────────────────┤\n",
              "│ batch_normalization_20               │ (<span style=\"color: #00d7ff; text-decoration-color: #00d7ff\">None</span>, <span style=\"color: #00af00; text-decoration-color: #00af00\">256</span>)                 │           <span style=\"color: #00af00; text-decoration-color: #00af00\">1,024</span> │\n",
              "│ (<span style=\"color: #0087ff; text-decoration-color: #0087ff\">BatchNormalization</span>)                 │                             │                 │\n",
              "├──────────────────────────────────────┼─────────────────────────────┼─────────────────┤\n",
              "│ dropout_24 (<span style=\"color: #0087ff; text-decoration-color: #0087ff\">Dropout</span>)                 │ (<span style=\"color: #00d7ff; text-decoration-color: #00d7ff\">None</span>, <span style=\"color: #00af00; text-decoration-color: #00af00\">256</span>)                 │               <span style=\"color: #00af00; text-decoration-color: #00af00\">0</span> │\n",
              "├──────────────────────────────────────┼─────────────────────────────┼─────────────────┤\n",
              "│ dense_32 (<span style=\"color: #0087ff; text-decoration-color: #0087ff\">Dense</span>)                     │ (<span style=\"color: #00d7ff; text-decoration-color: #00d7ff\">None</span>, <span style=\"color: #00af00; text-decoration-color: #00af00\">128</span>)                 │          <span style=\"color: #00af00; text-decoration-color: #00af00\">32,896</span> │\n",
              "├──────────────────────────────────────┼─────────────────────────────┼─────────────────┤\n",
              "│ batch_normalization_21               │ (<span style=\"color: #00d7ff; text-decoration-color: #00d7ff\">None</span>, <span style=\"color: #00af00; text-decoration-color: #00af00\">128</span>)                 │             <span style=\"color: #00af00; text-decoration-color: #00af00\">512</span> │\n",
              "│ (<span style=\"color: #0087ff; text-decoration-color: #0087ff\">BatchNormalization</span>)                 │                             │                 │\n",
              "├──────────────────────────────────────┼─────────────────────────────┼─────────────────┤\n",
              "│ dropout_25 (<span style=\"color: #0087ff; text-decoration-color: #0087ff\">Dropout</span>)                 │ (<span style=\"color: #00d7ff; text-decoration-color: #00d7ff\">None</span>, <span style=\"color: #00af00; text-decoration-color: #00af00\">128</span>)                 │               <span style=\"color: #00af00; text-decoration-color: #00af00\">0</span> │\n",
              "├──────────────────────────────────────┼─────────────────────────────┼─────────────────┤\n",
              "│ dense_33 (<span style=\"color: #0087ff; text-decoration-color: #0087ff\">Dense</span>)                     │ (<span style=\"color: #00d7ff; text-decoration-color: #00d7ff\">None</span>, <span style=\"color: #00af00; text-decoration-color: #00af00\">64</span>)                  │           <span style=\"color: #00af00; text-decoration-color: #00af00\">8,256</span> │\n",
              "├──────────────────────────────────────┼─────────────────────────────┼─────────────────┤\n",
              "│ batch_normalization_22               │ (<span style=\"color: #00d7ff; text-decoration-color: #00d7ff\">None</span>, <span style=\"color: #00af00; text-decoration-color: #00af00\">64</span>)                  │             <span style=\"color: #00af00; text-decoration-color: #00af00\">256</span> │\n",
              "│ (<span style=\"color: #0087ff; text-decoration-color: #0087ff\">BatchNormalization</span>)                 │                             │                 │\n",
              "├──────────────────────────────────────┼─────────────────────────────┼─────────────────┤\n",
              "│ dropout_26 (<span style=\"color: #0087ff; text-decoration-color: #0087ff\">Dropout</span>)                 │ (<span style=\"color: #00d7ff; text-decoration-color: #00d7ff\">None</span>, <span style=\"color: #00af00; text-decoration-color: #00af00\">64</span>)                  │               <span style=\"color: #00af00; text-decoration-color: #00af00\">0</span> │\n",
              "├──────────────────────────────────────┼─────────────────────────────┼─────────────────┤\n",
              "│ dense_34 (<span style=\"color: #0087ff; text-decoration-color: #0087ff\">Dense</span>)                     │ (<span style=\"color: #00d7ff; text-decoration-color: #00d7ff\">None</span>, <span style=\"color: #00af00; text-decoration-color: #00af00\">32</span>)                  │           <span style=\"color: #00af00; text-decoration-color: #00af00\">2,080</span> │\n",
              "├──────────────────────────────────────┼─────────────────────────────┼─────────────────┤\n",
              "│ batch_normalization_23               │ (<span style=\"color: #00d7ff; text-decoration-color: #00d7ff\">None</span>, <span style=\"color: #00af00; text-decoration-color: #00af00\">32</span>)                  │             <span style=\"color: #00af00; text-decoration-color: #00af00\">128</span> │\n",
              "│ (<span style=\"color: #0087ff; text-decoration-color: #0087ff\">BatchNormalization</span>)                 │                             │                 │\n",
              "├──────────────────────────────────────┼─────────────────────────────┼─────────────────┤\n",
              "│ dropout_27 (<span style=\"color: #0087ff; text-decoration-color: #0087ff\">Dropout</span>)                 │ (<span style=\"color: #00d7ff; text-decoration-color: #00d7ff\">None</span>, <span style=\"color: #00af00; text-decoration-color: #00af00\">32</span>)                  │               <span style=\"color: #00af00; text-decoration-color: #00af00\">0</span> │\n",
              "├──────────────────────────────────────┼─────────────────────────────┼─────────────────┤\n",
              "│ dense_35 (<span style=\"color: #0087ff; text-decoration-color: #0087ff\">Dense</span>)                     │ (<span style=\"color: #00d7ff; text-decoration-color: #00d7ff\">None</span>, <span style=\"color: #00af00; text-decoration-color: #00af00\">24</span>)                  │             <span style=\"color: #00af00; text-decoration-color: #00af00\">792</span> │\n",
              "└──────────────────────────────────────┴─────────────────────────────┴─────────────────┘\n",
              "</pre>\n"
            ]
          },
          "metadata": {}
        },
        {
          "output_type": "display_data",
          "data": {
            "text/plain": [
              "\u001b[1m Total params: \u001b[0m\u001b[38;5;34m50,296\u001b[0m (196.47 KB)\n"
            ],
            "text/html": [
              "<pre style=\"white-space:pre;overflow-x:auto;line-height:normal;font-family:Menlo,'DejaVu Sans Mono',consolas,'Courier New',monospace\"><span style=\"font-weight: bold\"> Total params: </span><span style=\"color: #00af00; text-decoration-color: #00af00\">50,296</span> (196.47 KB)\n",
              "</pre>\n"
            ]
          },
          "metadata": {}
        },
        {
          "output_type": "display_data",
          "data": {
            "text/plain": [
              "\u001b[1m Trainable params: \u001b[0m\u001b[38;5;34m49,336\u001b[0m (192.72 KB)\n"
            ],
            "text/html": [
              "<pre style=\"white-space:pre;overflow-x:auto;line-height:normal;font-family:Menlo,'DejaVu Sans Mono',consolas,'Courier New',monospace\"><span style=\"font-weight: bold\"> Trainable params: </span><span style=\"color: #00af00; text-decoration-color: #00af00\">49,336</span> (192.72 KB)\n",
              "</pre>\n"
            ]
          },
          "metadata": {}
        },
        {
          "output_type": "display_data",
          "data": {
            "text/plain": [
              "\u001b[1m Non-trainable params: \u001b[0m\u001b[38;5;34m960\u001b[0m (3.75 KB)\n"
            ],
            "text/html": [
              "<pre style=\"white-space:pre;overflow-x:auto;line-height:normal;font-family:Menlo,'DejaVu Sans Mono',consolas,'Courier New',monospace\"><span style=\"font-weight: bold\"> Non-trainable params: </span><span style=\"color: #00af00; text-decoration-color: #00af00\">960</span> (3.75 KB)\n",
              "</pre>\n"
            ]
          },
          "metadata": {}
        }
      ]
    },
    {
      "cell_type": "code",
      "source": [
        "history = model.fit(X_train, y_train, epochs=100, shuffle=True, batch_size=32, verbose=0)\n"
      ],
      "metadata": {
        "collapsed": true,
        "id": "00cKCh3YZ_OE"
      },
      "execution_count": 93,
      "outputs": []
    },
    {
      "cell_type": "code",
      "source": [
        "y_pred_proba = model.predict(X_test)\n",
        "\n",
        "y_pred = (y_pred_proba > 0.5).astype(int)\n",
        "\n",
        "overall_accuracy = accuracy_score(y_test, y_pred)\n",
        "print(f\"Overall Accuracy: {overall_accuracy:.4f}\")"
      ],
      "metadata": {
        "colab": {
          "base_uri": "https://localhost:8080/"
        },
        "id": "WepZxQTraCFx",
        "outputId": "f1459cfd-3558-476b-faf3-437836faca07"
      },
      "execution_count": 94,
      "outputs": [
        {
          "output_type": "stream",
          "name": "stdout",
          "text": [
            "\u001b[1m247/247\u001b[0m \u001b[32m━━━━━━━━━━━━━━━━━━━━\u001b[0m\u001b[37m\u001b[0m \u001b[1m1s\u001b[0m 2ms/step\n",
            "Overall Accuracy: 0.0014\n"
          ]
        }
      ]
    },
    {
      "cell_type": "code",
      "source": [
        "accuracies = []\n",
        "for i, col in enumerate(y.columns):\n",
        "    acc = accuracy_score(y_test[col], y_pred[:, i])\n",
        "    accuracies.append(acc)\n",
        "    print(f\"Accuracy for {col}: {acc:.4f}\")\n",
        "\n",
        "mean_accuracy = np.mean(accuracies)\n",
        "print(f\"Mean Accuracy: {mean_accuracy:.4f}\")"
      ],
      "metadata": {
        "colab": {
          "base_uri": "https://localhost:8080/"
        },
        "collapsed": true,
        "id": "62ewZU9satZp",
        "outputId": "34e7a022-6a5b-492e-c5a6-82b6ebf71e0f"
      },
      "execution_count": 95,
      "outputs": [
        {
          "output_type": "stream",
          "name": "stdout",
          "text": [
            "Accuracy for Home Loan: 1.0000\n",
            "Accuracy for Vehicle Loan: 1.0000\n",
            "Accuracy for Personal Loan: 0.6466\n",
            "Accuracy for Education Loan: 1.0000\n",
            "Accuracy for Equity Funds: 0.6385\n",
            "Accuracy for Debt Funds: 0.9011\n",
            "Accuracy for Hybrid Funds: 0.6290\n",
            "Accuracy for Index Funds: 0.6458\n",
            "Accuracy for Short-term FD: 0.5011\n",
            "Accuracy for Long-term FD: 0.5034\n",
            "Accuracy for Tax-savings FD: 0.9810\n",
            "Accuracy for Senior Citizen FD: 0.9929\n",
            "Accuracy for Health Insurance: 0.5487\n",
            "Accuracy for Life Insurance: 0.6398\n",
            "Accuracy for Car Insurance: 1.0000\n",
            "Accuracy for Home Insurance: 1.0000\n",
            "Accuracy for Stocks Investments: 0.4994\n",
            "Accuracy for Bonds: 0.4974\n",
            "Accuracy for Real-Estates: 0.6411\n",
            "Accuracy for Commodities: 0.6315\n",
            "Accuracy for Retirement Policy: 0.7716\n",
            "Accuracy for Child Policy: 1.0000\n",
            "Accuracy for Term Policy: 0.9379\n",
            "Accuracy for Endowment Policy: 0.5017\n",
            "Mean Accuracy: 0.7545\n"
          ]
        }
      ]
    },
    {
      "cell_type": "code",
      "source": [
        "custom_data = pd.DataFrame({\n",
        "    'age': [24],\n",
        "    'income': [0],\n",
        "    'credit_score': [5],\n",
        "    'home': [0],\n",
        "    'child': [0],\n",
        "    'vehicle': [0],\n",
        "    'occupation_Business': [0],\n",
        "    'occupation_Job': [0],\n",
        "    'occupation_Retired': [0],\n",
        "    'occupation_Student': [1],\n",
        "    'marital_status_Divorced': [0],\n",
        "    'marital_status_Married': [0],\n",
        "    'marital_status_Single': [1],\n",
        "    'gender_Female': [0],\n",
        "    'gender_Male': [1],\n",
        "    'gender_Others': [0],\n",
        "})"
      ],
      "metadata": {
        "id": "KqZDxc4NayLd"
      },
      "execution_count": 77,
      "outputs": []
    },
    {
      "cell_type": "code",
      "source": [
        "\n",
        "# for col in X.columns:\n",
        "#     if col not in custom_data.columns:\n",
        "#         custom_data[col] = 0"
      ],
      "metadata": {
        "id": "JrQkp8z5bdwV"
      },
      "execution_count": 78,
      "outputs": []
    },
    {
      "cell_type": "code",
      "source": [
        "# custom_data = scaler.transform(custom_data[X.columns])\n",
        "# custom_data"
      ],
      "metadata": {
        "id": "dBfnzNVcbhn9"
      },
      "execution_count": 79,
      "outputs": []
    },
    {
      "cell_type": "code",
      "source": [
        "custom_pred_proba = model.predict(custom_data[X.columns])\n",
        "custom_pred_proba"
      ],
      "metadata": {
        "colab": {
          "base_uri": "https://localhost:8080/"
        },
        "id": "tIEijftLbj1B",
        "outputId": "06006c00-ea28-479b-d3d5-ca654558cde2"
      },
      "execution_count": 80,
      "outputs": [
        {
          "output_type": "stream",
          "name": "stdout",
          "text": [
            "\u001b[1m1/1\u001b[0m \u001b[32m━━━━━━━━━━━━━━━━━━━━\u001b[0m\u001b[37m\u001b[0m \u001b[1m0s\u001b[0m 168ms/step\n"
          ]
        },
        {
          "output_type": "execute_result",
          "data": {
            "text/plain": [
              "array([[4.7676239e-22, 9.0219504e-07, 6.0064107e-01, 1.5762697e-11,\n",
              "        4.4019866e-01, 7.0859509e-04, 4.8452243e-01, 5.4608655e-01,\n",
              "        5.2421641e-01, 5.3468949e-01, 9.8739058e-01, 1.0000000e+00,\n",
              "        4.3967980e-01, 3.9077330e-01, 1.0000000e+00, 1.0000000e+00,\n",
              "        4.3482289e-01, 4.7785220e-01, 4.6268103e-01, 6.0322434e-01,\n",
              "        5.7450569e-01, 1.0000000e+00, 1.1995119e-05, 5.5201745e-01]],\n",
              "      dtype=float32)"
            ]
          },
          "metadata": {},
          "execution_count": 80
        }
      ]
    },
    {
      "cell_type": "code",
      "source": [
        "custom_predictions = {y.columns[i]: prob for i, prob in enumerate(custom_pred_proba[0])}\n",
        "custom_predictions"
      ],
      "metadata": {
        "colab": {
          "base_uri": "https://localhost:8080/"
        },
        "id": "M_Gm1tjMmdEc",
        "outputId": "6c12a149-b855-45cb-9b27-5c3e07eabec9"
      },
      "execution_count": 81,
      "outputs": [
        {
          "output_type": "execute_result",
          "data": {
            "text/plain": [
              "{'Home Loan': 4.767624e-22,\n",
              " 'Vehicle Loan': 9.0219504e-07,\n",
              " 'Personal Loan': 0.6006411,\n",
              " 'Education Loan': 1.5762697e-11,\n",
              " 'Equity Funds': 0.44019866,\n",
              " 'Debt Funds': 0.0007085951,\n",
              " 'Hybrid Funds': 0.48452243,\n",
              " 'Index Funds': 0.54608655,\n",
              " 'Short-term FD': 0.5242164,\n",
              " 'Long-term FD': 0.5346895,\n",
              " 'Tax-savings FD': 0.9873906,\n",
              " 'Senior Citizen FD': 1.0,\n",
              " 'Health Insurance': 0.4396798,\n",
              " 'Life Insurance': 0.3907733,\n",
              " 'Car Insurance': 1.0,\n",
              " 'Home Insurance': 1.0,\n",
              " 'Stocks Investments': 0.4348229,\n",
              " 'Bonds': 0.4778522,\n",
              " 'Real-Estates': 0.46268103,\n",
              " 'Commodities': 0.60322434,\n",
              " 'Retirement Policy': 0.5745057,\n",
              " 'Child Policy': 1.0,\n",
              " 'Term Policy': 1.1995119e-05,\n",
              " 'Endowment Policy': 0.55201745}"
            ]
          },
          "metadata": {},
          "execution_count": 81
        }
      ]
    },
    {
      "cell_type": "code",
      "source": [
        "\n",
        "\n",
        "top_5_predictions = sorted(custom_predictions.items(), key=lambda x: x[1], reverse=True)[:10]\n",
        "\n",
        "print(\"Top 10 Predictions:\")\n",
        "for scheme, prob in top_5_predictions:\n",
        "    print(f\"{scheme}: {prob:.4f}\")"
      ],
      "metadata": {
        "colab": {
          "base_uri": "https://localhost:8080/"
        },
        "id": "Fx3CtXnUblu0",
        "outputId": "19c191e2-766c-4931-cec0-95a3e3c39baa"
      },
      "execution_count": 82,
      "outputs": [
        {
          "output_type": "stream",
          "name": "stdout",
          "text": [
            "Top 10 Predictions:\n",
            "Senior Citizen FD: 1.0000\n",
            "Car Insurance: 1.0000\n",
            "Home Insurance: 1.0000\n",
            "Child Policy: 1.0000\n",
            "Tax-savings FD: 0.9874\n",
            "Commodities: 0.6032\n",
            "Personal Loan: 0.6006\n",
            "Retirement Policy: 0.5745\n",
            "Endowment Policy: 0.5520\n",
            "Index Funds: 0.5461\n"
          ]
        }
      ]
    },
    {
      "cell_type": "code",
      "source": [
        "# model.save(\"model.h5\")"
      ],
      "metadata": {
        "colab": {
          "base_uri": "https://localhost:8080/"
        },
        "id": "MEzlI1HWQR-5",
        "outputId": "d3ea4703-18c3-4dc9-bf9c-ec5c6db2fa3d"
      },
      "execution_count": 185,
      "outputs": [
        {
          "output_type": "stream",
          "name": "stderr",
          "text": [
            "WARNING:absl:You are saving your model as an HDF5 file via `model.save()` or `keras.saving.save_model(model)`. This file format is considered legacy. We recommend using instead the native Keras format, e.g. `model.save('my_model.keras')` or `keras.saving.save_model(model, 'my_model.keras')`. \n"
          ]
        }
      ]
    },
    {
      "cell_type": "code",
      "source": [
        "# Create a TFLite converter\n",
        "converter = tf.lite.TFLiteConverter.from_keras_model(model)\n",
        "\n",
        "# Convert the model\n",
        "tflite_model = converter.convert()\n",
        "\n",
        "# Save the model to a file\n",
        "with open('model4.tflite', 'wb') as f:\n",
        "    f.write(tflite_model)\n"
      ],
      "metadata": {
        "colab": {
          "base_uri": "https://localhost:8080/"
        },
        "id": "7MaxE1dcm4gy",
        "outputId": "7e39f2fa-e24e-4ac0-eb8a-ccafadd1b2f8"
      },
      "execution_count": 186,
      "outputs": [
        {
          "output_type": "stream",
          "name": "stdout",
          "text": [
            "Saved artifact at '/tmp/tmpvqg7h44s'. The following endpoints are available:\n",
            "\n",
            "* Endpoint 'serve'\n",
            "  args_0 (POSITIONAL_ONLY): TensorSpec(shape=(None, 16), dtype=tf.float32, name='keras_tensor_46')\n",
            "Output Type:\n",
            "  TensorSpec(shape=(None, 24), dtype=tf.float32, name=None)\n",
            "Captures:\n",
            "  135010226787200: TensorSpec(shape=(), dtype=tf.resource, name=None)\n",
            "  135010297386736: TensorSpec(shape=(), dtype=tf.resource, name=None)\n",
            "  135010297394832: TensorSpec(shape=(), dtype=tf.resource, name=None)\n",
            "  135010297388672: TensorSpec(shape=(), dtype=tf.resource, name=None)\n",
            "  135010297393776: TensorSpec(shape=(), dtype=tf.resource, name=None)\n",
            "  135010213840320: TensorSpec(shape=(), dtype=tf.resource, name=None)\n",
            "  135010152099936: TensorSpec(shape=(), dtype=tf.resource, name=None)\n",
            "  135010297394128: TensorSpec(shape=(), dtype=tf.resource, name=None)\n",
            "  135010242349360: TensorSpec(shape=(), dtype=tf.resource, name=None)\n",
            "  135010242359920: TensorSpec(shape=(), dtype=tf.resource, name=None)\n",
            "  135010242360448: TensorSpec(shape=(), dtype=tf.resource, name=None)\n",
            "  135010242349536: TensorSpec(shape=(), dtype=tf.resource, name=None)\n",
            "  135010242354640: TensorSpec(shape=(), dtype=tf.resource, name=None)\n",
            "  135010242349712: TensorSpec(shape=(), dtype=tf.resource, name=None)\n",
            "  135010242354992: TensorSpec(shape=(), dtype=tf.resource, name=None)\n",
            "  135010242351824: TensorSpec(shape=(), dtype=tf.resource, name=None)\n",
            "  135010242351472: TensorSpec(shape=(), dtype=tf.resource, name=None)\n",
            "  135010242356224: TensorSpec(shape=(), dtype=tf.resource, name=None)\n",
            "  135010242347248: TensorSpec(shape=(), dtype=tf.resource, name=None)\n",
            "  135010242352704: TensorSpec(shape=(), dtype=tf.resource, name=None)\n",
            "  135010297391136: TensorSpec(shape=(), dtype=tf.resource, name=None)\n",
            "  135010297383568: TensorSpec(shape=(), dtype=tf.resource, name=None)\n",
            "  135010242358512: TensorSpec(shape=(), dtype=tf.resource, name=None)\n",
            "  135010297390432: TensorSpec(shape=(), dtype=tf.resource, name=None)\n",
            "  135010297393072: TensorSpec(shape=(), dtype=tf.resource, name=None)\n",
            "  135010245695040: TensorSpec(shape=(), dtype=tf.resource, name=None)\n"
          ]
        }
      ]
    },
    {
      "cell_type": "markdown",
      "source": [
        "Scalar"
      ],
      "metadata": {
        "id": "5NvTAjHGr1Lt"
      }
    },
    {
      "cell_type": "code",
      "source": [
        "import pandas as pd\n",
        "from sklearn.ensemble import RandomForestClassifier\n",
        "from sklearn.multioutput import MultiOutputClassifier\n",
        "from sklearn.model_selection import train_test_split\n",
        "from sklearn.preprocessing import StandardScaler\n",
        "from sklearn.metrics import accuracy_score, classification_report\n",
        "\n"
      ],
      "metadata": {
        "id": "wI11988SsMHu"
      },
      "execution_count": null,
      "outputs": []
    },
    {
      "cell_type": "code",
      "source": [
        "data = pd.read_csv('processed_data.csv')\n"
      ],
      "metadata": {
        "id": "OWe8_57SnBmS"
      },
      "execution_count": null,
      "outputs": []
    },
    {
      "cell_type": "code",
      "source": [
        "data['gender'].unique()"
      ],
      "metadata": {
        "colab": {
          "base_uri": "https://localhost:8080/"
        },
        "id": "QZrrfZIEFRfV",
        "outputId": "79071507-4c29-4529-b8db-b2caa54073cf"
      },
      "execution_count": null,
      "outputs": [
        {
          "output_type": "execute_result",
          "data": {
            "text/plain": [
              "array(['Male', 'Female', 'Others'], dtype=object)"
            ]
          },
          "metadata": {},
          "execution_count": 32
        }
      ]
    },
    {
      "cell_type": "code",
      "source": [
        "data['marital_status'].unique()"
      ],
      "metadata": {
        "colab": {
          "base_uri": "https://localhost:8080/"
        },
        "id": "-gKgjuA0FcAt",
        "outputId": "124c6868-55c5-4b90-8d87-6d8ed52ecd58"
      },
      "execution_count": null,
      "outputs": [
        {
          "output_type": "execute_result",
          "data": {
            "text/plain": [
              "array(['Divorced', 'Single', 'Married'], dtype=object)"
            ]
          },
          "metadata": {},
          "execution_count": 33
        }
      ]
    },
    {
      "cell_type": "code",
      "source": [
        "df.to_csv('processed_data.csv', index=False)"
      ],
      "metadata": {
        "id": "NxwxzGEHF663"
      },
      "execution_count": null,
      "outputs": []
    },
    {
      "cell_type": "code",
      "source": [
        "data_cleaned = data.drop(columns=['name'])\n",
        "data_encoded = pd.get_dummies(data_cleaned, columns=['gender', 'occupation', 'marital_status'])"
      ],
      "metadata": {
        "id": "Df7wJVJrGFT5"
      },
      "execution_count": null,
      "outputs": []
    },
    {
      "cell_type": "code",
      "source": [
        "features = [\n",
        "    'age', 'income', 'credit_score', 'home', 'child', 'vehicle',\n",
        "    'gender_Female', 'gender_Male', 'gender_Others',\n",
        "    'occupation_Business', 'occupation_Job', 'occupation_Retired', 'occupation_Student',\n",
        "    'marital_status_Divorced', 'marital_status_Married', 'marital_status_Single'\n",
        "]\n",
        "\n",
        "\n",
        "target = [\n",
        "    'Home Loan', 'Vehicle Loan', 'Personal Loan', 'Education Loan',\n",
        "    'Equity Funds', 'Debt Funds', 'Hybrid Funds', 'Index Funds',\n",
        "    'Short-term FD', 'Long-term FD', 'Tax-savings FD', 'Senior Citizen FD',\n",
        "    'Health Insurance', 'Life Insurance', 'Car Insurance', 'Home Insurance',\n",
        "    'Stocks Investments', 'Bonds', 'Real-Estates', 'Commodities',\n",
        "    'Retirement Policy', 'Child Policy', 'Term Policy', 'Endowment Policy'\n",
        "]"
      ],
      "metadata": {
        "id": "cBsyBXvqr5jD"
      },
      "execution_count": null,
      "outputs": []
    },
    {
      "cell_type": "code",
      "source": [
        "X = data_encoded[features]\n",
        "y = data_encoded[target]"
      ],
      "metadata": {
        "id": "RFIEbgj4r-2M"
      },
      "execution_count": null,
      "outputs": []
    },
    {
      "cell_type": "code",
      "source": [
        "scaler = StandardScaler()\n",
        "X.loc[:, ['age', 'income', 'credit_score']] = scaler.fit_transform(X[['age', 'income', 'credit_score']])"
      ],
      "metadata": {
        "id": "1T1OwR63sAfF"
      },
      "execution_count": null,
      "outputs": []
    },
    {
      "cell_type": "code",
      "source": [
        "X_train, X_test, y_train, y_test = train_test_split(X, y, test_size=0.2, random_state=42)"
      ],
      "metadata": {
        "id": "BJ4yAdYcsCLW"
      },
      "execution_count": null,
      "outputs": []
    },
    {
      "cell_type": "code",
      "source": [
        "rf = RandomForestClassifier(n_estimators=200, random_state=42)\n",
        "model = MultiOutputClassifier(rf)\n",
        "model.fit(X_train, y_train)"
      ],
      "metadata": {
        "colab": {
          "base_uri": "https://localhost:8080/",
          "height": 117
        },
        "id": "VRALViwlsFKs",
        "outputId": "c3148a20-2c90-4a38-c35a-4e818a6a6b44"
      },
      "execution_count": null,
      "outputs": [
        {
          "output_type": "execute_result",
          "data": {
            "text/plain": [
              "MultiOutputClassifier(estimator=RandomForestClassifier(n_estimators=200,\n",
              "                                                       random_state=42))"
            ],
            "text/html": [
              "<style>#sk-container-id-1 {color: black;}#sk-container-id-1 pre{padding: 0;}#sk-container-id-1 div.sk-toggleable {background-color: white;}#sk-container-id-1 label.sk-toggleable__label {cursor: pointer;display: block;width: 100%;margin-bottom: 0;padding: 0.3em;box-sizing: border-box;text-align: center;}#sk-container-id-1 label.sk-toggleable__label-arrow:before {content: \"▸\";float: left;margin-right: 0.25em;color: #696969;}#sk-container-id-1 label.sk-toggleable__label-arrow:hover:before {color: black;}#sk-container-id-1 div.sk-estimator:hover label.sk-toggleable__label-arrow:before {color: black;}#sk-container-id-1 div.sk-toggleable__content {max-height: 0;max-width: 0;overflow: hidden;text-align: left;background-color: #f0f8ff;}#sk-container-id-1 div.sk-toggleable__content pre {margin: 0.2em;color: black;border-radius: 0.25em;background-color: #f0f8ff;}#sk-container-id-1 input.sk-toggleable__control:checked~div.sk-toggleable__content {max-height: 200px;max-width: 100%;overflow: auto;}#sk-container-id-1 input.sk-toggleable__control:checked~label.sk-toggleable__label-arrow:before {content: \"▾\";}#sk-container-id-1 div.sk-estimator input.sk-toggleable__control:checked~label.sk-toggleable__label {background-color: #d4ebff;}#sk-container-id-1 div.sk-label input.sk-toggleable__control:checked~label.sk-toggleable__label {background-color: #d4ebff;}#sk-container-id-1 input.sk-hidden--visually {border: 0;clip: rect(1px 1px 1px 1px);clip: rect(1px, 1px, 1px, 1px);height: 1px;margin: -1px;overflow: hidden;padding: 0;position: absolute;width: 1px;}#sk-container-id-1 div.sk-estimator {font-family: monospace;background-color: #f0f8ff;border: 1px dotted black;border-radius: 0.25em;box-sizing: border-box;margin-bottom: 0.5em;}#sk-container-id-1 div.sk-estimator:hover {background-color: #d4ebff;}#sk-container-id-1 div.sk-parallel-item::after {content: \"\";width: 100%;border-bottom: 1px solid gray;flex-grow: 1;}#sk-container-id-1 div.sk-label:hover label.sk-toggleable__label {background-color: #d4ebff;}#sk-container-id-1 div.sk-serial::before {content: \"\";position: absolute;border-left: 1px solid gray;box-sizing: border-box;top: 0;bottom: 0;left: 50%;z-index: 0;}#sk-container-id-1 div.sk-serial {display: flex;flex-direction: column;align-items: center;background-color: white;padding-right: 0.2em;padding-left: 0.2em;position: relative;}#sk-container-id-1 div.sk-item {position: relative;z-index: 1;}#sk-container-id-1 div.sk-parallel {display: flex;align-items: stretch;justify-content: center;background-color: white;position: relative;}#sk-container-id-1 div.sk-item::before, #sk-container-id-1 div.sk-parallel-item::before {content: \"\";position: absolute;border-left: 1px solid gray;box-sizing: border-box;top: 0;bottom: 0;left: 50%;z-index: -1;}#sk-container-id-1 div.sk-parallel-item {display: flex;flex-direction: column;z-index: 1;position: relative;background-color: white;}#sk-container-id-1 div.sk-parallel-item:first-child::after {align-self: flex-end;width: 50%;}#sk-container-id-1 div.sk-parallel-item:last-child::after {align-self: flex-start;width: 50%;}#sk-container-id-1 div.sk-parallel-item:only-child::after {width: 0;}#sk-container-id-1 div.sk-dashed-wrapped {border: 1px dashed gray;margin: 0 0.4em 0.5em 0.4em;box-sizing: border-box;padding-bottom: 0.4em;background-color: white;}#sk-container-id-1 div.sk-label label {font-family: monospace;font-weight: bold;display: inline-block;line-height: 1.2em;}#sk-container-id-1 div.sk-label-container {text-align: center;}#sk-container-id-1 div.sk-container {/* jupyter's `normalize.less` sets `[hidden] { display: none; }` but bootstrap.min.css set `[hidden] { display: none !important; }` so we also need the `!important` here to be able to override the default hidden behavior on the sphinx rendered scikit-learn.org. See: https://github.com/scikit-learn/scikit-learn/issues/21755 */display: inline-block !important;position: relative;}#sk-container-id-1 div.sk-text-repr-fallback {display: none;}</style><div id=\"sk-container-id-1\" class=\"sk-top-container\"><div class=\"sk-text-repr-fallback\"><pre>MultiOutputClassifier(estimator=RandomForestClassifier(n_estimators=200,\n",
              "                                                       random_state=42))</pre><b>In a Jupyter environment, please rerun this cell to show the HTML representation or trust the notebook. <br />On GitHub, the HTML representation is unable to render, please try loading this page with nbviewer.org.</b></div><div class=\"sk-container\" hidden><div class=\"sk-item sk-dashed-wrapped\"><div class=\"sk-label-container\"><div class=\"sk-label sk-toggleable\"><input class=\"sk-toggleable__control sk-hidden--visually\" id=\"sk-estimator-id-1\" type=\"checkbox\" ><label for=\"sk-estimator-id-1\" class=\"sk-toggleable__label sk-toggleable__label-arrow\">MultiOutputClassifier</label><div class=\"sk-toggleable__content\"><pre>MultiOutputClassifier(estimator=RandomForestClassifier(n_estimators=200,\n",
              "                                                       random_state=42))</pre></div></div></div><div class=\"sk-parallel\"><div class=\"sk-parallel-item\"><div class=\"sk-item\"><div class=\"sk-label-container\"><div class=\"sk-label sk-toggleable\"><input class=\"sk-toggleable__control sk-hidden--visually\" id=\"sk-estimator-id-2\" type=\"checkbox\" ><label for=\"sk-estimator-id-2\" class=\"sk-toggleable__label sk-toggleable__label-arrow\">estimator: RandomForestClassifier</label><div class=\"sk-toggleable__content\"><pre>RandomForestClassifier(n_estimators=200, random_state=42)</pre></div></div></div><div class=\"sk-serial\"><div class=\"sk-item\"><div class=\"sk-estimator sk-toggleable\"><input class=\"sk-toggleable__control sk-hidden--visually\" id=\"sk-estimator-id-3\" type=\"checkbox\" ><label for=\"sk-estimator-id-3\" class=\"sk-toggleable__label sk-toggleable__label-arrow\">RandomForestClassifier</label><div class=\"sk-toggleable__content\"><pre>RandomForestClassifier(n_estimators=200, random_state=42)</pre></div></div></div></div></div></div></div></div></div></div>"
            ]
          },
          "metadata": {},
          "execution_count": 42
        }
      ]
    },
    {
      "cell_type": "code",
      "source": [
        "# Predictions\n",
        "y_pred_proba = model.predict_proba(X_test)\n",
        "y_pred = pd.DataFrame({col: (probs[:, 1] > 0.5 if probs.shape[1] > 1 else probs[:, 0] > 0.5).astype(int) for col, probs in zip(target, y_pred_proba)}, index=X_test.index)\n"
      ],
      "metadata": {
        "id": "Bld79-x8sGyR"
      },
      "execution_count": null,
      "outputs": []
    },
    {
      "cell_type": "code",
      "source": [
        "overall_accuracy = accuracy_score(y_test, y_pred)\n",
        "print(f\"Overall Accuracy: {overall_accuracy:.4f}\")"
      ],
      "metadata": {
        "colab": {
          "base_uri": "https://localhost:8080/"
        },
        "id": "VrRveQPgsmwa",
        "outputId": "da0b6bed-137f-4937-9ad5-54ab1027b809"
      },
      "execution_count": null,
      "outputs": [
        {
          "output_type": "stream",
          "name": "stdout",
          "text": [
            "Overall Accuracy: 0.3148\n"
          ]
        }
      ]
    },
    {
      "cell_type": "code",
      "source": [
        "def get_user_input():\n",
        "    return pd.DataFrame({\n",
        "        'age': [18],\n",
        "        'income': [0],\n",
        "        'credit_score': [0],\n",
        "        'home': [0],\n",
        "        'child': [0],\n",
        "        'vehicle': [0],\n",
        "        'gender_Female': [0],\n",
        "        'gender_Male': [1],\n",
        "        'gender_Others': [0],\n",
        "        'occupation_Business': [0],\n",
        "        'occupation_Job': [0],\n",
        "        'occupation_Retired': [0],\n",
        "        'occupation_Student': [1],\n",
        "        'marital_status_Divorced': [0],\n",
        "        'marital_status_Married': [0],\n",
        "        'marital_status_Single': [1]\n",
        "    }).reindex(columns=features, fill_value=0)\n"
      ],
      "metadata": {
        "id": "oSC0KW19spQM"
      },
      "execution_count": null,
      "outputs": []
    },
    {
      "cell_type": "code",
      "source": [
        "new_customer = get_user_input()\n",
        "new_customer.loc[:, ['age', 'income', 'credit_score']] = scaler.transform(new_customer[['age', 'income', 'credit_score']])"
      ],
      "metadata": {
        "id": "_eq6GfwwsuDt"
      },
      "execution_count": null,
      "outputs": []
    },
    {
      "cell_type": "code",
      "source": [
        "# Predictions for the new customer\n",
        "predictions_proba = model.predict_proba(new_customer)\n",
        "recommendations_df = pd.DataFrame({target[i]: proba[0][1] if proba.shape[1] > 1 else proba[0][0] for i, proba in enumerate(predictions_proba)}, index=[0])\n"
      ],
      "metadata": {
        "id": "zfWnbLhLs6Px"
      },
      "execution_count": null,
      "outputs": []
    },
    {
      "cell_type": "code",
      "source": [
        "# Top 5 recommendations\n",
        "top_recommendations = recommendations_df.T.sort_values(by=0, ascending=False).head(10)\n",
        "print(\"Top Recommendations:\")\n",
        "print(top_recommendations)"
      ],
      "metadata": {
        "colab": {
          "base_uri": "https://localhost:8080/"
        },
        "id": "oeyu4d8Gs8h-",
        "outputId": "3038880d-8e94-4fbe-f99a-8f4b1620e509"
      },
      "execution_count": null,
      "outputs": [
        {
          "output_type": "stream",
          "name": "stdout",
          "text": [
            "Top Recommendations:\n",
            "                           0\n",
            "Home Loan           1.000000\n",
            "Vehicle Loan        1.000000\n",
            "Term Policy         1.000000\n",
            "Life Insurance      1.000000\n",
            "Health Insurance    1.000000\n",
            "Education Loan      1.000000\n",
            "Bonds               0.666440\n",
            "Endowment Policy    0.323393\n",
            "Stocks Investments  0.303560\n",
            "Short-term FD       0.015000\n"
          ]
        }
      ]
    },
    {
      "cell_type": "code",
      "source": [
        "import numpy as np\n",
        "accuracies = []\n",
        "for i, column in enumerate(target):\n",
        "    accuracy = accuracy_score(y_test[column], y_pred[column])\n",
        "    accuracies.append(accuracy)\n",
        "\n",
        "mean_accuracy = np.mean(accuracies)\n",
        "print(f\"Mean Accuracy across all labels: {mean_accuracy:.4f}\")"
      ],
      "metadata": {
        "colab": {
          "base_uri": "https://localhost:8080/"
        },
        "id": "mZ6GOUXfs-dz",
        "outputId": "03076f68-f520-4f3f-f989-5220b882e82e"
      },
      "execution_count": null,
      "outputs": [
        {
          "output_type": "stream",
          "name": "stdout",
          "text": [
            "Mean Accuracy across all labels: 0.8028\n"
          ]
        }
      ]
    },
    {
      "cell_type": "code",
      "source": [
        "scaler = StandardScaler()\n",
        "X_train = scaler.fit_transform(X_train)"
      ],
      "metadata": {
        "id": "HfR4o2f-tIxU"
      },
      "execution_count": 215,
      "outputs": []
    },
    {
      "cell_type": "code",
      "source": [
        "custom_data = pd.DataFrame({\n",
        "    'age': [24],\n",
        "    'income': [0],\n",
        "    'credit_score': [5],\n",
        "    'home': [0],\n",
        "    'child': [0],\n",
        "    'vehicle': [0],\n",
        "    'occupation_Business': [0],\n",
        "    'occupation_Job': [0],\n",
        "    'occupation_Retired': [0],\n",
        "    'occupation_Student': [1],\n",
        "    'marital_status_Divorced': [0],\n",
        "    'marital_status_Married': [0],\n",
        "    'marital_status_Single': [1],\n",
        "    'gender_Female': [0],\n",
        "    'gender_Male': [1],\n",
        "    'gender_Others': [0],\n",
        "})"
      ],
      "metadata": {
        "id": "8lmqTDYSmWtk"
      },
      "execution_count": 216,
      "outputs": []
    },
    {
      "cell_type": "code",
      "source": [
        "custom_data = scaler.transform(custom_data[X.columns])\n",
        "custom_data"
      ],
      "metadata": {
        "colab": {
          "base_uri": "https://localhost:8080/"
        },
        "id": "Ne4zOhmLmePQ",
        "outputId": "c2f784a2-6dd6-4162-d847-eca664d9464f"
      },
      "execution_count": 217,
      "outputs": [
        {
          "output_type": "execute_result",
          "data": {
            "text/plain": [
              "array([[-1.3026995 , -1.26587823, -0.00480438, -0.74686141, -0.90951843,\n",
              "        -1.25360117, -0.50415635, -0.59288812, -0.60395118,  1.64438353,\n",
              "        -0.38586076, -0.88525998,  1.14889141, -0.72376355,  1.42099737,\n",
              "        -0.69393566]])"
            ]
          },
          "metadata": {},
          "execution_count": 217
        }
      ]
    },
    {
      "cell_type": "code",
      "source": [],
      "metadata": {
        "id": "0Sc8lZOXmjPw"
      },
      "execution_count": null,
      "outputs": []
    }
  ]
}